{
  "nbformat": 4,
  "nbformat_minor": 0,
  "metadata": {
    "colab": {
      "provenance": [],
      "include_colab_link": true
    },
    "kernelspec": {
      "name": "python3",
      "display_name": "Python 3"
    },
    "language_info": {
      "name": "python"
    }
  },
  "cells": [
    {
      "cell_type": "markdown",
      "metadata": {
        "id": "view-in-github",
        "colab_type": "text"
      },
      "source": [
        "<a href=\"https://colab.research.google.com/github/alexsandrors91/Cientista_de_dados/blob/master/Aula5_Numpy.ipynb\" target=\"_parent\"><img src=\"https://colab.research.google.com/assets/colab-badge.svg\" alt=\"Open In Colab\"/></a>"
      ]
    },
    {
      "cell_type": "markdown",
      "source": [
        "## **AULA 5 - Extração de estatísticas descritivas de uma *array* Numpy**\n",
        "\n",
        "---\n",
        "\n",
        "\n",
        "\n",
        "```\n",
        "mean\n",
        "\n",
        "std\n",
        "\n",
        "min\n",
        "\n",
        "max\n",
        "\n",
        "sum\n",
        "\n",
        "np.unique()\n",
        "\n",
        "```\n",
        "\n"
      ],
      "metadata": {
        "id": "9dy2Qd6C5FXA"
      }
    },
    {
      "cell_type": "markdown",
      "source": [
        "> **RELEMBRANDO A SITUAÇÃO PROBLEMA**\n",
        "\n",
        "**Bancos e a Era Digital**\n",
        "\n",
        "Os bancos privados brasileiros correm para adequar suas redes físicas à nova realidade do mercado, que exige um maior investimento nos canais digitais. Neste sentido, é visível o potencial dos satélites para acelerar diferentes negócios. Os satélites viabilizam as telecomunicações em todo o território nacional. Veja o relato de Guilherme Saraiva, diretor executivo da Embratel:\n",
        "\n",
        "*“Os satélites podem ser usados em comunicações com plataformas de petróleo e embarcações marítimas, comunicações com lugares isolados ou com baixa qualidade de conexão terrestre, internet rural, mineração, agronegócio e monitoramento de infraestrutura”.*\n",
        "\n",
        "*“As redes via satélite também têm sido usadas na interiorização do serviço móvel pessoal de telefonia e banda larga móvel celular, principalmente em comunidades mais afastadas”.*\n",
        "\n",
        "Fonte: https://valor.globo.com/patrocinado/embratel/juntos-no-proximo-nivel/noticia/2021/11/12/conheca-o-potencial-dos-satelites-para-acelerar-diferentes-negocios.ghtml"
      ],
      "metadata": {
        "id": "VcHgwI7T5NMX"
      }
    },
    {
      "cell_type": "code",
      "execution_count": 13,
      "metadata": {
        "id": "cKkDeEt64_mz",
        "outputId": "c6c5b9bf-3b72-4a69-e4f4-39523591a083",
        "colab": {
          "base_uri": "https://localhost:8080/"
        }
      },
      "outputs": [
        {
          "output_type": "stream",
          "name": "stdout",
          "text": [
            "Looking in indexes: https://pypi.org/simple, https://us-python.pkg.dev/colab-wheels/public/simple/\n",
            "Requirement already satisfied: rasterio in /usr/local/lib/python3.8/dist-packages (1.3.4)\n",
            "Requirement already satisfied: numpy>=1.18 in /usr/local/lib/python3.8/dist-packages (from rasterio) (1.21.6)\n",
            "Requirement already satisfied: click-plugins in /usr/local/lib/python3.8/dist-packages (from rasterio) (1.1.1)\n",
            "Requirement already satisfied: certifi in /usr/local/lib/python3.8/dist-packages (from rasterio) (2022.12.7)\n",
            "Requirement already satisfied: snuggs>=1.4.1 in /usr/local/lib/python3.8/dist-packages (from rasterio) (1.4.7)\n",
            "Requirement already satisfied: cligj>=0.5 in /usr/local/lib/python3.8/dist-packages (from rasterio) (0.7.2)\n",
            "Requirement already satisfied: affine in /usr/local/lib/python3.8/dist-packages (from rasterio) (2.3.1)\n",
            "Requirement already satisfied: click>=4.0 in /usr/local/lib/python3.8/dist-packages (from rasterio) (7.1.2)\n",
            "Requirement already satisfied: attrs in /usr/local/lib/python3.8/dist-packages (from rasterio) (22.2.0)\n",
            "Requirement already satisfied: setuptools in /usr/local/lib/python3.8/dist-packages (from rasterio) (57.4.0)\n",
            "Requirement already satisfied: pyparsing>=2.1.6 in /usr/local/lib/python3.8/dist-packages (from snuggs>=1.4.1->rasterio) (3.0.9)\n"
          ]
        }
      ],
      "source": [
        "# Importando as bibliotecas\n",
        "\n",
        "!pip install rasterio\n",
        "\n"
      ]
    },
    {
      "cell_type": "code",
      "source": [
        "import numpy as np\n",
        "import rasterio\n",
        "from rasterio.plot import show"
      ],
      "metadata": {
        "id": "8HpZnNL-bJ5a"
      },
      "execution_count": 3,
      "outputs": []
    },
    {
      "cell_type": "code",
      "source": [
        "dataset = rasterio.open(\"/content/crop_rapideye.tif\") # Lendo a imagem"
      ],
      "metadata": {
        "id": "GQmeaz_u5R6m"
      },
      "execution_count": 4,
      "outputs": []
    },
    {
      "cell_type": "code",
      "source": [
        "# Convertendo o dataset em um objeto do tipo ndarray\n",
        "\n",
        "dataset_array = dataset.read(1)"
      ],
      "metadata": {
        "id": "hCMpOd1B7X00"
      },
      "execution_count": 5,
      "outputs": []
    },
    {
      "cell_type": "code",
      "source": [
        "dataset_array"
      ],
      "metadata": {
        "colab": {
          "base_uri": "https://localhost:8080/"
        },
        "id": "B3qrJo7E7boe",
        "outputId": "63b6f6d3-7aaa-402e-b17b-ffc884593e48"
      },
      "execution_count": 6,
      "outputs": [
        {
          "output_type": "execute_result",
          "data": {
            "text/plain": [
              "array([[   0, 6068, 6105, ..., 7005, 7085,    0],\n",
              "       [   0, 6198, 6273, ..., 6958, 7035,    0],\n",
              "       [   0, 6309, 6169, ..., 7154, 7162,    0],\n",
              "       ...,\n",
              "       [   0, 5908, 5900, ..., 7113, 7203,    0],\n",
              "       [   0, 5910, 5953, ..., 7101, 7142,    0],\n",
              "       [   0, 5880, 5992, ..., 7227, 7309,    0]], dtype=uint16)"
            ]
          },
          "metadata": {},
          "execution_count": 6
        }
      ]
    },
    {
      "cell_type": "code",
      "source": [
        "# Calculando a média\n",
        "\n",
        "dataset_array.mean()"
      ],
      "metadata": {
        "colab": {
          "base_uri": "https://localhost:8080/"
        },
        "id": "wGksYO0o7dRV",
        "outputId": "01581664-a89c-4962-ac49-923c67c006ed"
      },
      "execution_count": 7,
      "outputs": [
        {
          "output_type": "execute_result",
          "data": {
            "text/plain": [
              "7107.597241315036"
            ]
          },
          "metadata": {},
          "execution_count": 7
        }
      ]
    },
    {
      "cell_type": "code",
      "source": [
        "# Calculando o desvio padrão\n",
        "\n",
        "dataset_array.std()"
      ],
      "metadata": {
        "colab": {
          "base_uri": "https://localhost:8080/"
        },
        "id": "FiKjs3BS9P9O",
        "outputId": "1013fff3-1a18-4291-9b25-d869e7d59dd1"
      },
      "execution_count": 8,
      "outputs": [
        {
          "output_type": "execute_result",
          "data": {
            "text/plain": [
              "883.0605295194446"
            ]
          },
          "metadata": {},
          "execution_count": 8
        }
      ]
    },
    {
      "cell_type": "code",
      "source": [
        "# Identificando o valor mínimo\n",
        "\n",
        "dataset_array.min()"
      ],
      "metadata": {
        "colab": {
          "base_uri": "https://localhost:8080/"
        },
        "id": "hZRKm03L9Jj6",
        "outputId": "d787a554-ed85-4f57-bcdc-4fbcf7d1475a"
      },
      "execution_count": 9,
      "outputs": [
        {
          "output_type": "execute_result",
          "data": {
            "text/plain": [
              "0"
            ]
          },
          "metadata": {},
          "execution_count": 9
        }
      ]
    },
    {
      "cell_type": "code",
      "source": [
        "# Identificando o valor máximo\n",
        "\n",
        "dataset_array.max()"
      ],
      "metadata": {
        "colab": {
          "base_uri": "https://localhost:8080/"
        },
        "id": "pqorD-j79LqE",
        "outputId": "9c42237c-ebd8-426f-826a-c8ec19ea7267"
      },
      "execution_count": 10,
      "outputs": [
        {
          "output_type": "execute_result",
          "data": {
            "text/plain": [
              "18381"
            ]
          },
          "metadata": {},
          "execution_count": 10
        }
      ]
    },
    {
      "cell_type": "code",
      "source": [
        "# Somando todos os valores da array numpy\n",
        "\n",
        "dataset_array.sum()"
      ],
      "metadata": {
        "colab": {
          "base_uri": "https://localhost:8080/"
        },
        "id": "C-xmd8M59OMn",
        "outputId": "bded860d-1c5d-48b8-df59-ced03b37c6c4"
      },
      "execution_count": 11,
      "outputs": [
        {
          "output_type": "execute_result",
          "data": {
            "text/plain": [
              "6406070286"
            ]
          },
          "metadata": {},
          "execution_count": 11
        }
      ]
    },
    {
      "cell_type": "code",
      "source": [
        "# Identificando os valores únicos\n",
        "\n",
        "unique_values = np.unique(dataset_array)\n",
        "print(unique_values)"
      ],
      "metadata": {
        "colab": {
          "base_uri": "https://localhost:8080/"
        },
        "id": "ViMCkIyU9tq3",
        "outputId": "7a01f2fd-cd1b-440d-ec58-d4d6f9269621"
      },
      "execution_count": 12,
      "outputs": [
        {
          "output_type": "stream",
          "name": "stdout",
          "text": [
            "[    0  5314  5393 ... 18129 18312 18381]\n"
          ]
        }
      ]
    }
  ]
}